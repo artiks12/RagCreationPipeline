{
 "cells": [
  {
   "cell_type": "code",
   "execution_count": 1,
   "metadata": {},
   "outputs": [],
   "source": [
    "# References\n",
    "# https://huggingface.co/blog/ngxson/make-your-own-rag"
   ]
  },
  {
   "cell_type": "code",
   "execution_count": 2,
   "metadata": {},
   "outputs": [],
   "source": [
    "import json\n",
    "from datasets import Dataset\n",
    "with open('CombinedLaws.json', 'r', encoding='utf-8') as file:\n",
    "  dataset: list = json.load(file)"
   ]
  },
  {
   "cell_type": "code",
   "execution_count": 3,
   "metadata": {},
   "outputs": [],
   "source": [
    "def PrepareDatasetWithArticles(dataset):\n",
    "    data = []\n",
    "\n",
    "    for law in dataset:\n",
    "        try:\n",
    "            for article in law[\"Articles\"]:\n",
    "                entry = {\n",
    "                    'id': \"{}-{}\".format(law[\"LawId\"], article[\"Number\"]),\n",
    "                    'text': \"{}\\n{}\".format(law['LawTitle'], article['Point']),\n",
    "                    'metadata': {\n",
    "                        'lawTitle':law['LawTitle'],\n",
    "                        'lawId':law['LawId'],\n",
    "                        'lawUrl':law['LawSource'],\n",
    "                        'articleNumber':article['Number'],\n",
    "                        'articleText':article['Point']\n",
    "                    }\n",
    "                }\n",
    "                data.append(entry)\n",
    "        except  Exception as error:\n",
    "            print(error, law['LawSource'])\n",
    "\n",
    "    return Dataset.from_list(data)"
   ]
  },
  {
   "cell_type": "code",
   "execution_count": 4,
   "metadata": {},
   "outputs": [],
   "source": [
    "def PrepareDatasetWithLaws(dataset, ArticlePoints = 0):\n",
    "    data = []\n",
    "\n",
    "    for law in dataset:\n",
    "\n",
    "        try:\n",
    "            articleGroups = []\n",
    "            if ArticlePoints == 0:\n",
    "                text = law['LawTitle']\n",
    "                numbers = []\n",
    "                for article in law[\"Articles\"]:\n",
    "                    text += '\\n' + article['Point']\n",
    "                    numbers.append(article['Number'])\n",
    "                articleGroups.append((text,numbers))\n",
    "            else:\n",
    "                text = law['LawTitle']\n",
    "                numbers = []\n",
    "                for article in law[\"Articles\"]:\n",
    "                    text += '\\n' + article['Point']\n",
    "                    numbers.append(article['Number'])\n",
    "                    if len(numbers) == ArticlePoints:\n",
    "                        articleGroups.append((text,numbers))\n",
    "                        text = law['LawTitle']\n",
    "                        numbers = []\n",
    "                if len(numbers) > 0:\n",
    "                    articleGroups.append((text,numbers))\n",
    "            for group in articleGroups:\n",
    "                if len(articleGroups) == 1: id = law[\"LawId\"]\n",
    "                else: id = law[\"LawId\"] + '-' + str(group[1][0]) + '-' + str(group[1][-1])\n",
    "                entry = {\n",
    "                    'id': id,\n",
    "                    'text': group[0],\n",
    "                    'metadata': {\n",
    "                        'lawTitle':law['LawTitle'],\n",
    "                        'lawUrl':law['LawSource'],\n",
    "                        'Articles': group[1]\n",
    "                    }\n",
    "                }\n",
    "                data.append(entry)\n",
    "        except  Exception as error:\n",
    "            print(error, law['LawSource'])\n",
    "\n",
    "    return Dataset.from_list(data)"
   ]
  },
  {
   "cell_type": "code",
   "execution_count": 5,
   "metadata": {},
   "outputs": [],
   "source": [
    "articleData = PrepareDatasetWithArticles(dataset)\n",
    "lawData = PrepareDatasetWithLaws(dataset)\n",
    "twoArticleGroupData = PrepareDatasetWithLaws(dataset,2)"
   ]
  },
  {
   "cell_type": "code",
   "execution_count": null,
   "metadata": {},
   "outputs": [],
   "source": [
    "import ollama\n",
    "\n",
    "EMBEDDING_MODEL = 'bge-m3'\n",
    "LANGUAGE_MODEL = 'alibayram/erurollm-9b-instruct'\n",
    "RERANKING_MODEL = 'BAAI/bge-reranker-v2-m3'"
   ]
  },
  {
   "cell_type": "code",
   "execution_count": 7,
   "metadata": {},
   "outputs": [],
   "source": [
    "def add_chunk_to_database(id, text, article_list):\n",
    "  embedding = ollama.embed(model=EMBEDDING_MODEL, input=text)['embeddings'][0]\n",
    "  return [id, text, article_list, embedding]"
   ]
  },
  {
   "cell_type": "code",
   "execution_count": 8,
   "metadata": {},
   "outputs": [],
   "source": [
    "import os\n",
    "import pickle\n",
    "from tqdm.auto import tqdm\n",
    "\n",
    "batch_size = 64\n",
    "\n",
    "def EmbedData(filename, data):\n",
    "    vector_db = []\n",
    "    if not(os.path.exists(filename)):\n",
    "        for i in tqdm(range(0, len(data), batch_size)):\n",
    "            i_end = min(len(data), i+batch_size)\n",
    "            for x in range(i,i_end):\n",
    "                chunk = data[x]\n",
    "                article_list = data[x]['metadata']['Articles'] if 'Articles' in data[x]['metadata'].keys() else [data[x]['metadata']['articleNumber']]\n",
    "                vector_db.append(add_chunk_to_database(chunk['id'], chunk['text'], article_list))\n",
    "        with open(filename, \"wb\") as f:\n",
    "            pickle.dump(vector_db, f)\n",
    "    else:\n",
    "        with open(filename, \"rb\") as f:\n",
    "            vector_db = pickle.load(f)\n",
    "    return vector_db\n"
   ]
  },
  {
   "cell_type": "code",
   "execution_count": 9,
   "metadata": {},
   "outputs": [],
   "source": [
    "filename = 'VectorDatabases/PilniLikumi.pkl'\n",
    "law_db = EmbedData(filename, lawData)"
   ]
  },
  {
   "cell_type": "code",
   "execution_count": 10,
   "metadata": {},
   "outputs": [],
   "source": [
    "filename = 'VectorDatabases/LikumiPaPantiem.pkl'\n",
    "article_db = EmbedData(filename, articleData)"
   ]
  },
  {
   "cell_type": "code",
   "execution_count": 11,
   "metadata": {},
   "outputs": [],
   "source": [
    "filename = 'VectorDatabases/LikumiPaDivuPantuGrupām.pkl'\n",
    "articleTwoGroup_db = EmbedData(filename, twoArticleGroupData)"
   ]
  },
  {
   "cell_type": "code",
   "execution_count": null,
   "metadata": {},
   "outputs": [],
   "source": [
    "import numpy as np\n",
    "from sklearn.metrics.pairwise import cosine_similarity\n",
    "import heapq\n",
    "\n",
    "def retrieve_rerankers(query, vector_db, top_k=25, top_n=3, reranker = None, batch_size=10):\n",
    "    # Generate query embedding\n",
    "    query_embedding = np.array(ollama.embed(model=EMBEDDING_MODEL, input=query)['embeddings'][0]).reshape(1, -1)\n",
    "\n",
    "    # Extract ids, texts, and embeddings\n",
    "    ids, chunks, article_numbers, embeddings = zip(*vector_db)  # Unpack into separate lists\n",
    "    embeddings = np.vstack(embeddings)  # Convert list of arrays into a 2D NumPy array\n",
    "\n",
    "    # Compute cosine similarities for all embeddings at once\n",
    "    similarities = cosine_similarity(query_embedding, embeddings).flatten()  # Get 1D array of similarities\n",
    "\n",
    "    # Find top-K results efficiently (instead of min_n)\n",
    "    top_k_indices = np.argpartition(similarities, -top_k)[-top_k:]  # Get indices of top-K elements\n",
    "    sorted_top_k_indices = top_k_indices[np.argsort(similarities[top_k_indices])[::-1]]  # Sort them\n",
    "\n",
    "    top_results = [(ids[i], chunks[i], article_numbers[i], similarities[i]) for i in sorted_top_k_indices]\n",
    "\n",
    "    if reranker:\n",
    "        reranked_results = []\n",
    "        doc_to_article = {doc_id: article_no for doc_id, article_no in zip(ids, article_numbers)}\n",
    "\n",
    "        # print(sum([len(doc[1]) for doc in top_results]),end=' ')\n",
    "        # Process reranker inputs in batches\n",
    "        for i in range(0, len(top_results), batch_size):\n",
    "            batch = top_results[i:i + batch_size]\n",
    "            doc_ids, docs, _, _ = zip(*batch)\n",
    "\n",
    "            # print(sum([len(doc) for doc in docs]),end=' ')\n",
    "\n",
    "            reranker_scores = reranker.rank(query=query, docs=docs, doc_ids=doc_ids)\n",
    "\n",
    "            # Fetch reranked results efficiently\n",
    "            reranked_results.extend(\n",
    "                (example.doc_id, example.document.text, doc_to_article[example.doc_id], example.score)\n",
    "                for example in reranker_scores.results\n",
    "            )\n",
    "        # print()\n",
    "        # Sort reranked results by reranker score\n",
    "        reranked_results.sort(key=lambda x: x[3], reverse=True)\n",
    "\n",
    "        return reranked_results[:top_n]\n",
    "    \n",
    "    return top_results[:top_n]"
   ]
  },
  {
   "cell_type": "code",
   "execution_count": null,
   "metadata": {},
   "outputs": [],
   "source": [
    "import os\n",
    "from os import listdir\n",
    "from os.path import isfile, join\n",
    "\n",
    "def GetCustomRagInstructions(instructions, RagFile, VectorDb, ranker, top_k=500, top_n=8, batch_size=10):\n",
    "    prompts = {}\n",
    "    for i in range(1,top_n,2):\n",
    "        prompts[i] = []\n",
    "\n",
    "    for i in tqdm(range(0, len(instructions))):\n",
    "        instruction = instructions[i]\n",
    "        input_query = instruction['question']\n",
    "        \n",
    "        retrieved_knowledge = retrieve_rerankers(input_query ,VectorDb, top_k=top_k, top_n=top_n, reranker=ranker, batch_size=batch_size)\n",
    "\n",
    "        _, chunks, _, _ = zip(*retrieved_knowledge)\n",
    "\n",
    "        # Prepare non rereanked prompt\n",
    "        prompt = 'Izmantojot dotās atsauces, sniedz juridiski pareizu atbildi uz doto jautājumu:\\n'\n",
    "        prompt += 'Atsauces: ' + '\\n'.join(chunks) + '\\n'\n",
    "        prompt += 'Jautājums: ' + input_query\n",
    "\n",
    "        prompts[i].append({\n",
    "            \"id\": instruction['id'],\n",
    "            \"rag_prompt\": prompt,\n",
    "            \"question\": input_query,\n",
    "            \"gold\": instruction['gold']\n",
    "        })\n",
    "\n",
    "        saveFile = f'RAG/{top_k}_{i}_'+RagFile\n",
    "        \n",
    "        if isfile(saveFile):\n",
    "            with open(saveFile, 'r', encoding='utf-8') as f:\n",
    "                temp = json.load(f)\n",
    "                temp.extend(prompts[i])\n",
    "                prompts[i] = temp\n",
    "\n",
    "        with open(saveFile, 'wt', encoding='utf-8') as f:\n",
    "            json.dump(prompts[i], f, ensure_ascii=False, indent=4)"
   ]
  },
  {
   "cell_type": "code",
   "execution_count": null,
   "metadata": {},
   "outputs": [],
   "source": [
    "with open('ModelInstructions.json', encoding='utf-8') as f:\n",
    "    instructions = [item for item in json.load(f) if 'rag_prompt' != '']"
   ]
  },
  {
   "cell_type": "code",
   "execution_count": 15,
   "metadata": {},
   "outputs": [
    {
     "name": "stdout",
     "output_type": "stream",
     "text": [
      "Loading TransformerRanker model BAAI/bge-reranker-v2-m3 (this message can be suppressed by setting verbose=0)\n",
      "No device set\n",
      "Using device cuda\n",
      "No dtype set\n",
      "Using dtype torch.float32\n",
      "Loaded model BAAI/bge-reranker-v2-m3\n",
      "Using device cuda.\n",
      "Using dtype torch.float32.\n"
     ]
    }
   ],
   "source": [
    "from rerankers import Reranker\n",
    "\n",
    "ranker = Reranker(RERANKING_MODEL, model_type='cross-encoder')"
   ]
  },
  {
   "cell_type": "code",
   "execution_count": null,
   "metadata": {},
   "outputs": [
    {
     "data": {
      "application/vnd.jupyter.widget-view+json": {
       "model_id": "d8b156fcbd584070be3cd02b0c8b3c8c",
       "version_major": 2,
       "version_minor": 0
      },
      "text/plain": [
       "  0%|          | 0/90 [00:00<?, ?it/s]"
      ]
     },
     "metadata": {},
     "output_type": "display_data"
    },
    {
     "data": {
      "application/vnd.jupyter.widget-view+json": {
       "model_id": "a0130f9d73f344d185d6884f140327cf",
       "version_major": 2,
       "version_minor": 0
      },
      "text/plain": [
       "  0%|          | 0/90 [00:00<?, ?it/s]"
      ]
     },
     "metadata": {},
     "output_type": "display_data"
    },
    {
     "data": {
      "application/vnd.jupyter.widget-view+json": {
       "model_id": "27155f43ff714220b63b855b75733472",
       "version_major": 2,
       "version_minor": 0
      },
      "text/plain": [
       "  0%|          | 0/90 [00:00<?, ?it/s]"
      ]
     },
     "metadata": {},
     "output_type": "display_data"
    }
   ],
   "source": [
    "RankFile = 'RagWithRerankInstructionsArticles.json'\n",
    "GetCustomRagInstructions(instructions, RankFile, article_db, ranker, top_k=100, top_n=3, batch_size=5)"
   ]
  }
 ],
 "metadata": {
  "kernelspec": {
   "display_name": "Python 3",
   "language": "python",
   "name": "python3"
  },
  "language_info": {
   "codemirror_mode": {
    "name": "ipython",
    "version": 3
   },
   "file_extension": ".py",
   "mimetype": "text/x-python",
   "name": "python",
   "nbconvert_exporter": "python",
   "pygments_lexer": "ipython3",
   "version": "3.10.11"
  }
 },
 "nbformat": 4,
 "nbformat_minor": 2
}
